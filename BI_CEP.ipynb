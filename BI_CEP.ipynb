{
  "nbformat": 4,
  "nbformat_minor": 0,
  "metadata": {
    "colab": {
      "name": "BI CEP.ipynb",
      "provenance": [],
      "collapsed_sections": [],
      "authorship_tag": "ABX9TyMwdnDeBSnSvMxKiHhxcGKF",
      "include_colab_link": true
    },
    "kernelspec": {
      "name": "python3",
      "display_name": "Python 3"
    },
    "language_info": {
      "name": "python"
    }
  },
  "cells": [
    {
      "cell_type": "markdown",
      "metadata": {
        "id": "view-in-github",
        "colab_type": "text"
      },
      "source": [
        "<a href=\"https://colab.research.google.com/github/Javeria-Arif/BioinformaticsRosalindProblems/blob/main/BI_CEP.ipynb\" target=\"_parent\"><img src=\"https://colab.research.google.com/assets/colab-badge.svg\" alt=\"Open In Colab\"/></a>"
      ]
    },
    {
      "cell_type": "markdown",
      "source": [
        "STRING ALIGNMENT"
      ],
      "metadata": {
        "id": "YzaFZURwsb56"
      }
    },
    {
      "cell_type": "code",
      "source": [
        "pip install biopython"
      ],
      "metadata": {
        "id": "IAwIv4j7xrs-",
        "colab": {
          "base_uri": "https://localhost:8080/"
        },
        "outputId": "4f2db04d-bb5d-459e-9311-ef736c5da34e"
      },
      "execution_count": null,
      "outputs": [
        {
          "output_type": "stream",
          "name": "stdout",
          "text": [
            "Collecting biopython\n",
            "  Downloading biopython-1.79-cp37-cp37m-manylinux_2_5_x86_64.manylinux1_x86_64.whl (2.3 MB)\n",
            "\u001b[K     |████████████████████████████████| 2.3 MB 4.9 MB/s \n",
            "\u001b[?25hRequirement already satisfied: numpy in /usr/local/lib/python3.7/dist-packages (from biopython) (1.19.5)\n",
            "Installing collected packages: biopython\n",
            "Successfully installed biopython-1.79\n"
          ]
        }
      ]
    },
    {
      "cell_type": "code",
      "source": [
        "from Bio.Seq import Seq\n",
        "\n",
        "def reverse_complement(sequence):\n",
        "  seq = Seq(sequence)\n",
        "  return (seq.reverse_complement())\n",
        "\n",
        "\n",
        "def reverse_palindromes(s):\n",
        "    results = []\n",
        "    l = len(s)            \n",
        "\n",
        "    for i in range(l):\n",
        "        for j in range(4, 13):\n",
        "\n",
        "            if i + j > l:\n",
        "                continue\n",
        "\n",
        "            s1 = s[i:i+j]\n",
        "            s2 = reverse_complement(s1)\n",
        "\n",
        "            if s1 == s2:\n",
        "                results.append((i + 1, j))\n",
        "\n",
        "    return results\n",
        "\n",
        "if __name__ == '__main__':   \n",
        "    dataset = open('evp.txt').read().strip()\n",
        "    results = reverse_palindromes(dataset)\n",
        "\n",
        "    print(\" \".join([' '.join(map(str, r)) for r in results]))"
      ],
      "metadata": {
        "colab": {
          "base_uri": "https://localhost:8080/"
        },
        "id": "vuAFZp-9ZKqZ",
        "outputId": "6d5db533-8a3d-4a83-fddf-053327d42f0c"
      },
      "execution_count": null,
      "outputs": [
        {
          "output_type": "stream",
          "name": "stdout",
          "text": [
            "14 4 31 6 32 4 50 4 66 4 82 4 83 4 89 4 109 4 112 4 114 4 129 4 132 4 133 4 140 4 147 4 161 6 162 4 164 4 167 4 176 4 181 4 207 4 239 4 243 6 244 4 256 4 262 4 262 10 263 8 264 6 265 4 268 4 304 4 305 6 306 4 311 4 320 6 321 4 329 6 330 4 344 4 353 6 354 4 367 4 402 4 413 4 436 6 437 4 454 4 457 4 483 8 484 6 485 4 497 4 602 4 644 4 665 6 666 4 681 4 702 4 714 6 715 4 742 4 763 4 771 4 781 4 809 4 814 6 815 4 821 4\n"
          ]
        }
      ]
    },
    {
      "cell_type": "code",
      "source": [
        "def pam250(c1, c2) :\n",
        "    i = 0\n",
        "    j = 0\n",
        "\n",
        "    if c1 == 'A' : i = 0\n",
        "    if c1 == 'R' : i = 1\n",
        "    if c1 == 'N' : i = 2\n",
        "    if c1 == 'D' : i = 3\n",
        "    if c1 == 'C' : i = 4\n",
        "    if c1 == 'Q' : i = 5\n",
        "    if c1 == 'E' : i = 6\n",
        "    if c1 == 'G' : i = 7\n",
        "    if c1 == 'H' : i = 8\n",
        "    if c1 == 'I' : i = 9\n",
        "    if c1 == 'L' : i = 10\n",
        "    if c1 == 'K' : i = 11\n",
        "    if c1 == 'M' : i = 12\n",
        "    if c1 == 'F' : i = 13\n",
        "    if c1 == 'P' : i = 14\n",
        "    if c1 == 'S' : i = 15\n",
        "    if c1 == 'T' : i = 16\n",
        "    if c1 == 'W' : i = 17\n",
        "    if c1 == 'Y' : i = 18\n",
        "    if c1 == 'V' : i = 19\n",
        "\n",
        "    if c2 == 'A' : j = 0\n",
        "    if c2 == 'R' : j = 1\n",
        "    if c2 == 'N' : j = 2\n",
        "    if c2 == 'D' : j = 3\n",
        "    if c2 == 'C' : j = 4\n",
        "    if c2 == 'Q' : j = 5 \n",
        "    if c2 == 'E' : j = 6\n",
        "    if c2 == 'G' : j = 7\n",
        "    if c2 == 'H' : j = 8\n",
        "    if c2 == 'I' : j = 9\n",
        "    if c2 == 'L' : j = 10\n",
        "    if c2 == 'K' : j = 11\n",
        "    if c2 == 'M' : j = 12\n",
        "    if c2 == 'F' : j = 13\n",
        "    if c2 == 'P' : j = 14\n",
        "    if c2 == 'S' : j = 15\n",
        "    if c2 == 'T' : j = 16\n",
        "    if c2 == 'W' : j = 17\n",
        "    if c2 == 'Y' : j = 18\n",
        "    if c2 == 'V' : j = 19\n",
        "\n",
        "    pam250 = [[2,  -2,  0,  0, -2,  0,  0,  1, -1, -1, -2, -1, -1, -3,  1,  1,  1, -6, -3,  0],\n",
        "              [-2,  6,  0, -1, -4,  1, -1, -3,  2, -2, -3,  3,  0, -4,  0,  0, -1,  2, -4, -2],\n",
        "              [0,   0,  2,  2, -4,  1,  1,  0,  2, -2, -3,  1, -2, -3,  0,  1,  0, -4, -2, -2],\n",
        "              [0,  -1,  2,  4, -5,  2,  3,  1,  1, -2, -4,  0, -3, -6, -1,  0,  0, -7, -4, -2],\n",
        "              [-2, -4, -4, -5, 12, -5, -5, -3, -3, -2, -6, -5, -5, -4, -3,  0, -2, -8,  0, -2],\n",
        "              [0,   1,  1,  2, -5,  4,  2, -1,  3, -2, -2,  1, -1, -5,  0, -1, -1, -5, -4, -2],\n",
        "              [0,  -1,  1,  3, -5,  2,  4,  0,  1, -2, -3,  0, -2, -5, -1,  0,  0, -7, -4, -2],\n",
        "              [1,  -3,  0,  1, -3, -1,  0,  5, -2, -3, -4, -2, -3, -5,  0,  1,  0, -7, -5, -1],\n",
        "              [-1,  2,  2,  1, -3,  3,  1, -2,  6, -2, -2,  0, -2, -2,  0, -1, -1, -3,  0, -2],\n",
        "              [-1, -2, -2, -2, -2, -2, -2, -3, -2,  5,  2, -2,  2,  1, -2, -1,  0, -5, -1,  4],\n",
        "              [-2, -3, -3, -4, -6, -2, -3, -4, -2,  2,  6, -3,  4,  2, -3, -3, -2, -2, -1,  2],\n",
        "              [-1,  3,  1,  0, -5,  1,  0, -2,  0, -2, -3,  5,  0, -5, -1,  0,  0, -3, -4, -2],\n",
        "              [-1,  0, -2, -3, -5, -1, -2, -3, -2,  2,  4,  0,  6,  0, -2, -2, -1, -4, -2,  2],\n",
        "              [-3, -4, -3, -6, -4, -5, -5, -5, -2,  1,  2, -5,  0,  9, -5, -3, -3,  0,  7, -1],\n",
        "              [1,   0,  0, -1, -3,  0, -1,  0,  0, -2, -3, -1, -2, -5,  6,  1,  0, -6, -5, -1],\n",
        "              [1,   0,  1,  0,  0, -1,  0,  1, -1, -1, -3,  0, -2, -3,  1,  2,  1, -2, -3, -1],\n",
        "              [1,  -1,  0,  0, -2, -1,  0,  0, -1,  0, -2,  0, -1, -3,  0,  1,  3, -5, -3,  0],\n",
        "              [-6,  2, -4, -7, -8, -5, -7, -7, -3, -5, -2, -3, -4,  0, -6, -2, -5, 17,  0, -6],\n",
        "              [-3, -4, -2, -4,  0, -4, -4, -5,  0, -1, -1, -4, -2,  7, -5, -3, -3,  0, 10, -2],\n",
        "              [0,  -2, -2, -2, -2, -2, -2, -1, -2,  4,  2, -2,  2, -1, -1, -1,  0, -6, -2,  4]]\n",
        "\n",
        "    return pam250[i][j]\n",
        "\n",
        "def zeros(shape):\n",
        "    retval = []\n",
        "    for _ in range(shape[0]):\n",
        "        retval.append([])\n",
        "        for _ in range(shape[1]):\n",
        "            retval[-1].append(0)\n",
        "    return retval\n",
        "\n",
        "def match_score(alpha, beta):\n",
        "    if alpha == '-' or beta == '-':\n",
        "        return gap_penalty\n",
        "    else:\n",
        "        return pam250(alpha, beta)\n",
        "\n",
        "def get_score(align1, align2):\n",
        "    i, score = 0, 0\n",
        "    symbol = ''\n",
        "    global output\n",
        "\n",
        "    for i in range(0,len(align1)):\n",
        "        # if two AAs are the same, then output the letter\n",
        "        if align1[i] == align2[i]:\n",
        "            symbol = symbol + align1[i]\n",
        "            score += match_score(align1[i], align2[i])\n",
        "\n",
        "        # if they are not identical and none of them is gap\n",
        "        elif align1[i] != align2[i] and align1[i] != '-' and align2[i] != '-':\n",
        "            score += match_score(align1[i], align2[i])\n",
        "            symbol += ' '\n",
        "\n",
        "        #if one of them is a gap, output a space\n",
        "        elif align1[i] == '-' or align2[i] == '-':\n",
        "            symbol += ' '\n",
        "            score += gap_penalty\n",
        "\n",
        "    print (score)\n",
        "    print (align1.replace(\"-\", \"\"))\n",
        "    print (align2.replace(\"-\", \"\"))\n",
        "\n",
        "def get_alignment_score(seq1, seq2):\n",
        "    m, n = len(seq1), len(seq2) # length of two sequences\n",
        "\n",
        "    # Generate table and traceback path pointer matrix\n",
        "    score = 1, zeros((m+1, n+1)) # the DP table\n",
        "    pointer = zeros((m+n+1)) # to store the traceback path\n",
        "    max_score = 0 # initial maximum score in DP table\n",
        "\n",
        "    # Calculate table and mark pointers\n",
        "    for i in range(1, m + 1):\n",
        "        for j in range(1, n + 1):\n",
        "            score_diagonal = score[i-1][j-1] + match_score(seq1[i-1], seq2[j-1])\n",
        "            score_up = score[i][j-1] + gap_penalty\n",
        "            score_left = score[i-1][j] + gap_penalty\n",
        "            score[i][j] = max(0,score_left, score_up, score_diagonal)\n",
        "\n",
        "            if score[i][j] == score_diagonal:\n",
        "                pointer[i][j] = 3 # 3 means trace diagonal\n",
        "            if score[i][j] == score_up:\n",
        "                pointer[i][j] = 2 # 2 means trace left\n",
        "            if score[i][j] == score_left:\n",
        "                pointer[i][j] = 1 # 1 means trace up\n",
        "            if score[i][j] == 0:\n",
        "                pointer[i][j] = 0 # 0 means end of the path\n",
        "            if score[i][j] >= max_score:\n",
        "                max_i = i\n",
        "                max_j = j\n",
        "                max_score = score[i][j];\n",
        "\n",
        "    align1, align2 = '', ''\n",
        "\n",
        "    i = max_i\n",
        "    j = max_j\n",
        "\n",
        "    while  pointer[i][j] != 0:\n",
        "        if pointer[i][j] == 3:\n",
        "            align1 =  seq1[i-1] + align1\n",
        "            align2 = seq2[j-1] + align2\n",
        "            i -= 1\n",
        "            j -= 1\n",
        "        elif pointer[i][j] == 2:\n",
        "            align1 = '-' + align1\n",
        "            align2 = seq2[j-1] + align2\n",
        "            j -= 1\n",
        "        elif pointer[i][j] == 1:\n",
        "            align1 = seq1[i-1] + align1\n",
        "            align2 = '-' + align2\n",
        "            i -= 1\n",
        "    get_score(align1, align2)\n",
        "\n",
        "if __name__ == \"__main__\":\n",
        "    s = \"MEANLYPRTEINSTRING\"\n",
        "    t = \"PLEASANTLYEINSTEIN\"\n",
        "    match_award = 5\n",
        "    mismatch_penalty = -5\n",
        "    gap_penalty = -5 \n",
        "\n",
        "    get_alignment_score(s, t)"
      ],
      "metadata": {
        "colab": {
          "base_uri": "https://localhost:8080/"
        },
        "id": "h79JBV1BryMX",
        "outputId": "1c594041-649d-4a74-ca0e-6aa4b5cfadf9"
      },
      "execution_count": null,
      "outputs": [
        {
          "output_type": "stream",
          "name": "stdout",
          "text": [
            "23\n",
            "LYPRTEINSTRIN\n",
            "LYEINSTEIN\n"
          ]
        }
      ]
    },
    {
      "cell_type": "code",
      "source": [
        "def mortal_fibbonacci(n, l, m=1):\n",
        "\n",
        "    fib_table = []\n",
        "    \n",
        "    for i in range(n):\n",
        "        if i < l:\n",
        "            if i == 0 or i == 1:\n",
        "                fib_table.append(1)\n",
        "            else:\n",
        "                fib_table.append(fib_table[-1] + fib_table[-2])\n",
        "        else:\n",
        "            rabbits = 0\n",
        "            \n",
        "            for j in range(i-l, i-m):(3,5)\n",
        "                rabbits = rabbits + fib_table[j]\n",
        "                \n",
        "            fib_table.append(rabbits)\n",
        "    return fib_table\n",
        "\n",
        "with open('fibonacci.txt', 'r') as f:\n",
        "    n, l = f.readline().split()\n",
        "    print (mortal_fibbonacci(int(n), int(l))[-1])"
      ],
      "metadata": {
        "colab": {
          "base_uri": "https://localhost:8080/"
        },
        "id": "IAPVXOYtu87K",
        "outputId": "9c95d689-5120-4b2d-94d9-e504db29c321"
      },
      "execution_count": null,
      "outputs": [
        {
          "output_type": "stream",
          "name": "stdout",
          "text": [
            "4\n"
          ]
        }
      ]
    }
  ]
}